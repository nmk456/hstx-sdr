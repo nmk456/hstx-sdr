{
 "cells": [
  {
   "cell_type": "markdown",
   "metadata": {},
   "source": [
    "Most of the DSP code is taken from https://pysdr.org"
   ]
  },
  {
   "cell_type": "code",
   "execution_count": 1,
   "metadata": {},
   "outputs": [],
   "source": [
    "import adi\n",
    "import numpy as np\n",
    "import matplotlib.pyplot as plt"
   ]
  },
  {
   "cell_type": "code",
   "execution_count": 2,
   "metadata": {},
   "outputs": [],
   "source": [
    "fs = 5e6\n",
    "fc = 150e6\n",
    "num_samps = 65536"
   ]
  },
  {
   "cell_type": "code",
   "execution_count": 3,
   "metadata": {},
   "outputs": [],
   "source": [
    "fsym = 150e6/256 # 256x divider\n",
    "sps = fs/fsym"
   ]
  },
  {
   "cell_type": "code",
   "execution_count": 4,
   "metadata": {},
   "outputs": [],
   "source": [
    "sdr = adi.Pluto('ip:192.168.20.1')\n",
    "# sdr.gain_control_mode_chan0 = \"manual\"\n",
    "sdr.sample_rate = int(fs)\n",
    "sdr.rx_lo = int(fc)\n",
    "sdr.rx_hardwaregain_chan0 = 45 # dB\n",
    "sdr.rx_rf_bandwidth = int(fs)\n",
    "sdr.rx_buffer_size = num_samps"
   ]
  },
  {
   "cell_type": "code",
   "execution_count": 5,
   "metadata": {},
   "outputs": [],
   "source": [
    "sdr.rx_destroy_buffer()"
   ]
  },
  {
   "cell_type": "code",
   "execution_count": 6,
   "metadata": {},
   "outputs": [
    {
     "data": {
      "image/png": "[encoded data removed]",
      "text/plain": [
       "<Figure size 640x480 with 1 Axes>"
      ]
     },
     "metadata": {},
     "output_type": "display_data"
    }
   ],
   "source": [
    "samples = sdr.rx()\n",
    "\n",
    "# Pulse shaping\n",
    "num_taps = 101\n",
    "beta = 0.35\n",
    "Ts = sps # Assume sample rate is 1 Hz, so sample period is 1, so *symbol* period is 8\n",
    "t = np.arange(num_taps) - int(num_taps/2)\n",
    "h = np.sinc(t/Ts) * np.cos(np.pi*beta*t/Ts) / (1 - (2*beta*t/Ts)**2)\n",
    "\n",
    "samples = np.convolve(samples, h, mode=\"same\")\n",
    "samples = samples / np.max(np.abs(samples))\n",
    "\n",
    "# Packet detection\n",
    "# TODO: better message detection\n",
    "# estimated message len, parse length later\n",
    "message_len_ms = 0.5\n",
    "\n",
    "t = np.arange(num_samps)/fs\n",
    "plt.plot(t, np.abs(samples))\n",
    "threshold = np.median(np.abs(samples)) * 5\n",
    "\n",
    "start = np.argwhere(np.abs(samples) > threshold)[0][0]\n",
    "start = start - 500\n",
    "end = start + int(fs*message_len_ms/1000)\n",
    "message = samples[start:end]\n",
    "plt.vlines(t[[start, end]], 0, 1, 'r')\n",
    "\n",
    "t = np.arange(len(message))/fs"
   ]
  },
  {
   "cell_type": "code",
   "execution_count": 7,
   "metadata": {},
   "outputs": [
    {
     "name": "stdout",
     "output_type": "stream",
     "text": [
      "4081.788357366342\n"
     ]
    }
   ],
   "source": [
    "# Coarse frequency sync\n",
    "X = np.fft.fftshift(np.fft.fft(samples**2))\n",
    "f = np.linspace(-fs/2, fs/2, len(X))\n",
    "idx = np.argmax(np.abs(X))\n",
    "f_offset = f[idx]\n",
    "\n",
    "print(f_offset)\n",
    "\n",
    "t = np.arange(0, len(message))/fs\n",
    "message = message * np.exp(-1j*2*np.pi*f_offset*t/2.0)"
   ]
  },
  {
   "cell_type": "code",
   "execution_count": 8,
   "metadata": {},
   "outputs": [],
   "source": [
    "# Time sync\n",
    "\n",
    "samples = message\n",
    "samples = samples / np.max(np.abs(samples))\n",
    "\n",
    "mu = 0 # initial estimate of phase of sample\n",
    "out = np.zeros(len(samples) + 10, dtype=np.complex64)\n",
    "out_rail = np.zeros(len(samples) + 10, dtype=np.complex64) # stores values, each iteration we need the previous 2 values plus current value\n",
    "i_in = 0 # input samples index\n",
    "i_out = 2 # output index (let first two outputs be 0)\n",
    "while i_out < len(samples) and i_in+16 < len(samples):\n",
    "    out[i_out] = samples[i_in + int(mu)] # grab what we think is the \"best\" sample\n",
    "    out_rail[i_out] = int(np.real(out[i_out]) > 0) + 1j*int(np.imag(out[i_out]) > 0)\n",
    "    x = (out_rail[i_out] - out_rail[i_out-2]) * np.conj(out[i_out-1])\n",
    "    y = (out[i_out] - out[i_out-2]) * np.conj(out_rail[i_out-1])\n",
    "    mm_val = np.real(y - x)\n",
    "    mu += sps + 0.3*mm_val\n",
    "    i_in += int(np.floor(mu)) # round down to nearest int since we are using it as an index\n",
    "    mu = mu - np.floor(mu) # remove the integer part of mu\n",
    "    i_out += 1 # increment output index\n",
    "out = out[2:i_out] # remove the first two, and anything after i_out (that was never filled out)\n",
    "\n",
    "samples = out"
   ]
  },
  {
   "cell_type": "code",
   "execution_count": 9,
   "metadata": {},
   "outputs": [],
   "source": [
    "# Fine frequency sync\n",
    "\n",
    "N = len(samples)\n",
    "phase = 0\n",
    "freq = 0\n",
    "\n",
    "# Loop params - https://www.trondeau.com/blog/2011/8/13/control-loop-gain-values.html\n",
    "damp = np.sqrt(2)/2 # damping ratio, critically damped\n",
    "bw = 0.2 # 0.05 default\n",
    "alpha = (4 * damp * bw) / (1 + 2 * damp * bw + bw * bw)\n",
    "beta = (4 * bw * bw) / (1 + 2 * damp * bw + bw * bw)\n",
    "\n",
    "out = np.zeros(N, dtype=np.complex64)\n",
    "freq_log = []\n",
    "for i in range(N):\n",
    "    out[i] = samples[i] * np.exp(-1j*phase) # adjust the input sample by the inverse of the estimated phase offset\n",
    "    error = np.real(out[i]) * np.imag(out[i]) # This is the error formula for 2nd order Costas Loop (e.g. for BPSK)\n",
    "\n",
    "    # Advance the loop (recalc phase and freq offset)\n",
    "    freq += (beta * error)\n",
    "    freq_log.append(freq * fs / (2*np.pi)) # convert from angular velocity to Hz for logging\n",
    "    phase += freq + (alpha * error)\n",
    "\n",
    "    # Optional: Adjust phase so its always between 0 and 2pi, recall that phase wraps around every 2pi\n",
    "    while phase >= 2*np.pi:\n",
    "        phase -= 2*np.pi\n",
    "    while phase < 0:\n",
    "        phase += 2*np.pi"
   ]
  },
  {
   "cell_type": "code",
   "execution_count": 10,
   "metadata": {},
   "outputs": [
    {
     "data": {
      "text/plain": [
       "[<matplotlib.lines.Line2D at 0x72e0e53c2fe0>]"
      ]
     },
     "execution_count": 10,
     "metadata": {},
     "output_type": "execute_result"
    },
    {
     "data": {
      "image/png": "[encoded data removed]",
      "text/plain": [
       "<Figure size 640x480 with 1 Axes>"
      ]
     },
     "metadata": {},
     "output_type": "display_data"
    }
   ],
   "source": [
    "plt.plot(freq_log)"
   ]
  },
  {
   "cell_type": "code",
   "execution_count": 11,
   "metadata": {},
   "outputs": [],
   "source": [
    "bits = [1 if x > 0 else 0 for x in out.real]\n",
    "bits = \"\".join([str(x) for x in bits])"
   ]
  },
  {
   "cell_type": "code",
   "execution_count": 12,
   "metadata": {},
   "outputs": [],
   "source": [
    "sync = [0x6B, 0xBE]\n",
    "sync = \"\".join([f\"{x:08b}\"[::-1] for x in sync])"
   ]
  },
  {
   "cell_type": "code",
   "execution_count": 13,
   "metadata": {},
   "outputs": [
    {
     "data": {
      "text/plain": [
       "b'hello there\\xfc\\x00\\x00\\x00\\x00\\x00\\x00\\x00\\x00\\x00\\x00\\x00'"
      ]
     },
     "execution_count": 13,
     "metadata": {},
     "output_type": "execute_result"
    }
   ],
   "source": [
    "data = [int(x) for x in bits]\n",
    "data = np.array(data)\n",
    "\n",
    "decoded = data[1:] ^ data[:-1]\n",
    "data = \"\".join([str(x) for x in decoded])\n",
    "\n",
    "start = data.find(sync) + 16\n",
    "end = len(data) - (len(data) - start) % 8\n",
    "data = data[start:end]\n",
    "data = [data[i:i+8][::-1] for i in range(0, len(data), 8)]\n",
    "bytes([int(x, 2) for x in data])"
   ]
  }
 ],
 "metadata": {
  "kernelspec": {
   "display_name": "Python 3",
   "language": "python",
   "name": "python3"
  },
  "language_info": {
   "codemirror_mode": {
    "name": "ipython",
    "version": 3
   },
   "file_extension": ".py",
   "mimetype": "text/x-python",
   "name": "python",
   "nbconvert_exporter": "python",
   "pygments_lexer": "ipython3",
   "version": "3.10.12"
  }
 },
 "nbformat": 4,
 "nbformat_minor": 2
}
